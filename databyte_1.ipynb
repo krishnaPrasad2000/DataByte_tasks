{
 "cells": [
  {
   "cell_type": "code",
   "execution_count": 2,
   "metadata": {},
   "outputs": [],
   "source": [
    "import pandas as pd\n",
    "import matplotlib.pyplot as plt\n",
    "import numpy as np\n",
    "import pylab as pl\n",
    "%matplotlib inline"
   ]
  },
  {
   "cell_type": "code",
   "execution_count": 3,
   "metadata": {},
   "outputs": [],
   "source": [
    "df=pd.read_csv(\"C:/Users/kp473/Downloads/DATA_BYTE_1/company_sales_data - company_sales_data.csv\")"
   ]
  },
  {
   "cell_type": "code",
   "execution_count": 28,
   "metadata": {},
   "outputs": [
    {
     "name": "stdout",
     "output_type": "stream",
     "text": [
      "   month_number  facecream  facewash  toothpaste  bathingsoap  shampoo  \\\n",
      "0             1       2500      1500        5200         9200     1200   \n",
      "1             2       2630      1200        5100         6100     2100   \n",
      "2             3       2140      1340        4550         9550     3550   \n",
      "3             4       3400      1130        5870         8870     1870   \n",
      "4             5       3600      1740        4560         7760     1560   \n",
      "\n",
      "   moisturizer  total_units  total_profit  \n",
      "0         1500        21100        211000  \n",
      "1         1200        18330        183300  \n",
      "2         1340        22470        224700  \n",
      "3         1130        22270        222700  \n",
      "4         1740        20960        209600  \n"
     ]
    }
   ],
   "source": [
    "print(df.head())"
   ]
  },
  {
   "cell_type": "code",
   "execution_count": 8,
   "metadata": {},
   "outputs": [
    {
     "name": "stdout",
     "output_type": "stream",
     "text": [
      "12\n"
     ]
    }
   ],
   "source": [
    "print(len(df.total_profit))"
   ]
  },
  {
   "cell_type": "code",
   "execution_count": 25,
   "metadata": {
    "scrolled": true
   },
   "outputs": [
    {
     "data": {
      "image/png": "[encoded data removed]",
      "text/plain": [
       "<Figure size 432x288 with 1 Axes>"
      ]
     },
     "metadata": {
      "needs_background": "light"
     },
     "output_type": "display_data"
    }
   ],
   "source": [
    "a=[]\n",
    "b=[]\n",
    "\n",
    "for i in range(0,len(df.month_number)):\n",
    "    a.append(df.month_number[i])\n",
    "    b.append(df.total_profit[i])\n",
    "    \n",
    "plt.plot(a,b,'red')\n",
    "plt.xlabel('Month',color='blue')\n",
    "plt.ylabel('Profit',color='blue')\n",
    "plt.title('Company Sales',color='blue')\n",
    "plt.grid()"
   ]
  },
  {
   "cell_type": "code",
   "execution_count": 30,
   "metadata": {},
   "outputs": [],
   "source": [
    "df=df[['facecream','facewash','toothpaste','bathingsoap','shampoo','moisturizer']]"
   ]
  },
  {
   "cell_type": "code",
   "execution_count": null,
   "metadata": {},
   "outputs": [],
   "source": []
  },
  {
   "cell_type": "code",
   "execution_count": null,
   "metadata": {},
   "outputs": [],
   "source": [
    "a=[]\n",
    "b1=[][]\n",
    "\n",
    "for j in range(0,6);\n",
    "  for i in range(0,len(df.month_number)):\n",
    "    a.append(df.month_number[i])\n",
    "    b1.append(j)(df.total_profit[i])\n",
    "    \n",
    "\n",
    "plt.xlabel('Month',color='blue')\n",
    "plt.ylabel('Profit',color='blue')\n",
    "plt.title('Company Sales',color='blue')\n",
    "plt.grid()"
   ]
  }
 ],
 "metadata": {
  "kernelspec": {
   "display_name": "Python 3",
   "language": "python",
   "name": "python3"
  },
  "language_info": {
   "codemirror_mode": {
    "name": "ipython",
    "version": 3
   },
   "file_extension": ".py",
   "mimetype": "text/x-python",
   "name": "python",
   "nbconvert_exporter": "python",
   "pygments_lexer": "ipython3",
   "version": "3.7.6"
  }
 },
 "nbformat": 4,
 "nbformat_minor": 4
}
